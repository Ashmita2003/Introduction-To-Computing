{
  "nbformat": 4,
  "nbformat_minor": 0,
  "metadata": {
    "colab": {
      "name": "Assignment_5.ipynb",
      "provenance": []
    },
    "kernelspec": {
      "name": "python3",
      "display_name": "Python 3"
    },
    "language_info": {
      "name": "python"
    }
  },
  "cells": [
    {
      "cell_type": "code",
      "source": [
        "#Q1\n",
        "word = input (\"Enter a string: \")\n",
        "new_word = \"\"\n",
        "for i in word:\n",
        "  new_word = i + new_word\n",
        "print(new_word)"
      ],
      "metadata": {
        "colab": {
          "base_uri": "https://localhost:8080/"
        },
        "id": "2K-Ps7zllEkn",
        "outputId": "976b031d-afa1-4440-c340-eecf6f5ccb73"
      },
      "execution_count": 1,
      "outputs": [
        {
          "output_type": "stream",
          "name": "stdout",
          "text": [
            "Enter a string: ashmita\n",
            "atimhsa\n"
          ]
        }
      ]
    },
    {
      "cell_type": "code",
      "source": [
        "#Q2\n",
        "n = int (input(\"Enter a number: \"))\n",
        "a = int (input(\"Enter the start value of range: \"))\n",
        "b = int (input(\"Enter the end value of range: \"))\n",
        "\n",
        "for i in range (a,b+1): # +1 for including the end value\n",
        "  if i%n ==0:\n",
        "    print (i)"
      ],
      "metadata": {
        "colab": {
          "base_uri": "https://localhost:8080/"
        },
        "id": "PftlI-Phlzzf",
        "outputId": "22a0c45e-fd66-48a6-bccc-a2d8d16ab907"
      },
      "execution_count": null,
      "outputs": [
        {
          "output_type": "stream",
          "name": "stdout",
          "text": [
            "Enter a number: 5\n",
            "Enter the start value of range: 0\n",
            "Enter the end(included) value of range: 20\n",
            "0\n",
            "5\n",
            "10\n",
            "15\n",
            "20\n"
          ]
        }
      ]
    },
    {
      "cell_type": "code",
      "source": [
        "#Q3\n",
        "\n",
        "a = int (input (\"Enter the length of first side: \"))\n",
        "b = int (input (\"Enter the length of first side: \"))\n",
        "c = int (input (\"Enter the length of first side: \"))\n",
        "\n",
        "d = a+b > c\n",
        "e = b+c > a\n",
        "f = c+a > b\n",
        "\n",
        "s = (a+b+c)/2\n",
        "Area = (s*(s-a)*(s-b)*(s-c))**0.5\n",
        "\n",
        "if d&e&f :\n",
        "  print (\"Triangle is formed\")\n",
        "  print (\"Area of triangle= \",Area, \"sq. units\")\n",
        "else :\n",
        "  print (\"Triangle cannot be formed\")\n"
      ],
      "metadata": {
        "colab": {
          "base_uri": "https://localhost:8080/"
        },
        "id": "H4Hfmtg1oMiL",
        "outputId": "d9ef17cc-c57f-46b2-9ec6-998b819481a7"
      },
      "execution_count": null,
      "outputs": [
        {
          "output_type": "stream",
          "name": "stdout",
          "text": [
            "Enter the length of first side: 3\n",
            "Enter the length of first side: 4\n",
            "Enter the length of first side: 5\n",
            "Triangle is formed\n",
            "Area of triangle=  6.0 sq. units\n"
          ]
        }
      ]
    },
    {
      "cell_type": "code",
      "source": [
        "#Q4\n",
        "for i in range (1,6):\n",
        "  for j in range (0,i):\n",
        "    print (\"*\", end='')\n",
        "  print()\n",
        "for i in range (0,5):\n",
        "  j=4-i\n",
        "  while j>0:\n",
        "    print (\"*\", end='')\n",
        "    j=j-1\n",
        "  print()"
      ],
      "metadata": {
        "id": "Aqtzpm4usKSu",
        "colab": {
          "base_uri": "https://localhost:8080/"
        },
        "outputId": "440a73fb-3b3f-4926-c663-67eafb480a06"
      },
      "execution_count": 29,
      "outputs": [
        {
          "output_type": "stream",
          "name": "stdout",
          "text": [
            "*\n",
            "**\n",
            "***\n",
            "****\n",
            "*****\n",
            "****\n",
            "***\n",
            "**\n",
            "*\n",
            "\n"
          ]
        }
      ]
    },
    {
      "cell_type": "code",
      "source": [
        "#Q5\n",
        "a1 = \"ABCDEFGHIJKLMNOPQRSTUVWXYZ\"\n",
        "a = a1\n",
        "n = int(input(\"Enter the number of rows: \"))\n",
        "for i in range (1,n+1):\n",
        "  if len(a)<i:\n",
        "    a=a+a1\n",
        "  for j in range (0,i):\n",
        "    print (a[j], end='')\n",
        "  print()\n",
        "  a = a[i:]\n",
        "\n"
      ],
      "metadata": {
        "id": "XqmvyOiYsMOK",
        "colab": {
          "base_uri": "https://localhost:8080/"
        },
        "outputId": "6a05cc9d-712c-4c65-e742-d4e0f536f18b"
      },
      "execution_count": 31,
      "outputs": [
        {
          "output_type": "stream",
          "name": "stdout",
          "text": [
            "Enter the number of rows: 7\n",
            "A\n",
            "BC\n",
            "DEF\n",
            "GHIJ\n",
            "KLMNO\n",
            "PQRSTU\n",
            "VWXYZAB\n"
          ]
        }
      ]
    },
    {
      "cell_type": "code",
      "source": [
        "#Q6\n",
        "lower_value = int(input(\"Enter the lower value of range: \"))\n",
        "upper_value = int(input(\"Enter the upper value of range: \"))\n",
        "\n",
        "for number in range(lower_value,upper_value+1):   # +1 for including the upper range as well\n",
        "  if number>1:\n",
        "    for i in range (2,number):\n",
        "      if number%i ==0:\n",
        "        break\n",
        "    else:\n",
        "      print(number)\n"
      ],
      "metadata": {
        "id": "QlJWqS67sOKX",
        "colab": {
          "base_uri": "https://localhost:8080/"
        },
        "outputId": "f020692e-4957-4083-fa7d-20fa8733641c"
      },
      "execution_count": 10,
      "outputs": [
        {
          "output_type": "stream",
          "name": "stdout",
          "text": [
            "Enter the lower value of range: 2\n",
            "Enter the upper value of range: 20\n",
            "2\n",
            "3\n",
            "5\n",
            "7\n",
            "11\n",
            "13\n",
            "17\n",
            "19\n"
          ]
        }
      ]
    },
    {
      "cell_type": "code",
      "source": [
        "#Q7\n",
        "for i in range (1,500):\n",
        "  if (i % 7 ==0 and i%11==0):\n",
        "    print (i)"
      ],
      "metadata": {
        "colab": {
          "base_uri": "https://localhost:8080/"
        },
        "id": "9klT7HDIsSZu",
        "outputId": "0ce0c41f-c41b-4ca2-af14-7e0baae1b262"
      },
      "execution_count": 53,
      "outputs": [
        {
          "output_type": "stream",
          "name": "stdout",
          "text": [
            "77\n",
            "154\n",
            "231\n",
            "308\n",
            "385\n",
            "462\n"
          ]
        }
      ]
    },
    {
      "cell_type": "code",
      "source": [
        "#Q8\n",
        "n = input(\"Enter 10 integers: \")\n",
        "int_list = n.split(',')\n",
        "print (int_list)\n",
        "\n",
        "#part(a)\n",
        "print (\"Positive numbers are:\")\n",
        "for i in int_list:\n",
        "  j = int(i)\n",
        "  if j > 0:\n",
        "    print (j)\n",
        "    j = j+1\n",
        "\n",
        "#part(b)\n",
        "print (\"Negative numbers are:\")\n",
        "for i in int_list:\n",
        "  j = int(i)\n",
        "  if j < 0:\n",
        "    print (j)\n",
        "    j = j+1\n",
        "\n",
        "#part(c)\n",
        "print (\"Odd numbers are:\")\n",
        "for i in int_list:\n",
        "  j = int(i)\n",
        "  if j %2 != 0:\n",
        "    print (j)\n",
        "    j = j+1\n",
        "\n",
        "#part(d)\n",
        "print (\"Even numbers are:\")\n",
        "for i in int_list:\n",
        "  j = int(i)\n",
        "  if j %2== 0:\n",
        "    print (j)\n",
        "    j = j+1\n",
        "\n",
        "#part(e)\n",
        "for i in int_list:\n",
        "  g=0\n",
        "  n=0\n",
        "  if (i=='----'):\n",
        "    continue\n",
        "\n",
        "  for j in int_list:\n",
        "    if i==j :\n",
        "      n = n+1\n",
        "      int_list[g]='----'\n",
        "    g = g+1\n",
        "  print(\"Number of times\" , i, \"occured :\",n)"
      ],
      "metadata": {
        "id": "gzvFIQRVsT9M",
        "colab": {
          "base_uri": "https://localhost:8080/"
        },
        "outputId": "d5bdeed5-cbc9-48ff-aba9-665f535cb8bb"
      },
      "execution_count": 1,
      "outputs": [
        {
          "output_type": "stream",
          "name": "stdout",
          "text": [
            "Enter 10 integers: 3,5,7,-8,-8,0,5,3,-5,3\n",
            "['3', '5', '7', '-8', '-8', '0', '5', '3', '-5', '3']\n",
            "Positive numbers are:\n",
            "3\n",
            "5\n",
            "7\n",
            "5\n",
            "3\n",
            "3\n",
            "Negative numbers are:\n",
            "-8\n",
            "-8\n",
            "-5\n",
            "Odd numbers are:\n",
            "3\n",
            "5\n",
            "7\n",
            "5\n",
            "3\n",
            "-5\n",
            "3\n",
            "Even numbers are:\n",
            "-8\n",
            "-8\n",
            "0\n",
            "Number of times 3 occured : 3\n",
            "Number of times 5 occured : 2\n",
            "Number of times 7 occured : 1\n",
            "Number of times -8 occured : 2\n",
            "Number of times 0 occured : 1\n",
            "Number of times -5 occured : 1\n"
          ]
        }
      ]
    },
    {
      "cell_type": "code",
      "source": [
        "#Q9\n",
        "words = input(\"Enter a list of words: \")\n",
        "list = words.split()\n",
        "print (list)\n",
        "\n",
        "for i in list:\n",
        "  g=0\n",
        "  n=0\n",
        "  if (i=='----'):\n",
        "    continue\n",
        "\n",
        "  for j in list:\n",
        "    if i==j :\n",
        "      n = n+1\n",
        "      list[g]='----'\n",
        "    g = g+1\n",
        "  print(\"Number of times\" , i, \"occured :\",n)"
      ],
      "metadata": {
        "colab": {
          "base_uri": "https://localhost:8080/"
        },
        "id": "BBqlGFwtsUCu",
        "outputId": "ba3175c2-ab80-4c36-9756-75ed4eb073e7"
      },
      "execution_count": 37,
      "outputs": [
        {
          "output_type": "stream",
          "name": "stdout",
          "text": [
            "Enter a list of words: hi hello hi hey hello i me you hi i me you hey\n",
            "['hi', 'hello', 'hi', 'hey', 'hello', 'i', 'me', 'you', 'hi', 'i', 'me', 'you', 'hey']\n",
            "Number of times hi occured : 3\n",
            "Number of times hello occured : 2\n",
            "Number of times hey occured : 2\n",
            "Number of times i occured : 2\n",
            "Number of times me occured : 2\n",
            "Number of times you occured : 2\n"
          ]
        }
      ]
    }
  ]
}