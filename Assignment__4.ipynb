{
  "nbformat": 4,
  "nbformat_minor": 0,
  "metadata": {
    "colab": {
      "name": "Assignment__4.ipynb",
      "provenance": []
    },
    "kernelspec": {
      "name": "python3",
      "display_name": "Python 3"
    },
    "language_info": {
      "name": "python"
    }
  },
  "cells": [
    {
      "cell_type": "code",
      "execution_count": 27,
      "metadata": {
        "colab": {
          "base_uri": "https://localhost:8080/"
        },
        "id": "3biGTqPnWT_7",
        "outputId": "a8f531fd-96be-4126-87a9-300bae17ccbc"
      },
      "outputs": [
        {
          "output_type": "stream",
          "name": "stdout",
          "text": [
            "Enter your marks : 100\n",
            "A\n"
          ]
        }
      ],
      "source": [
        "#Q1\n",
        "m = int(input(\"Enter your marks : \"))\n",
        "if m<25 :\n",
        "  print ('F')\n",
        "elif 25<=m<45:\n",
        "  print ('E')\n",
        "elif 45<=m<50:\n",
        "  print ('D')\n",
        "elif 50<=m<60:\n",
        "  print ('C')\n",
        "elif 60<=m<80:\n",
        "  print ('B')\n",
        "else:\n",
        "  print('A')"
      ]
    },
    {
      "cell_type": "code",
      "source": [
        "#Q2\n",
        "y=int(input(\"Enter year: \"))\n",
        "\n",
        "if y%400==0:\n",
        "  print('Leap year')\n",
        "elif y%100==0:\n",
        "  print('Non-Leap Year')\n",
        "elif y%4==0:\n",
        "  print('Leap Year')\n",
        "else :\n",
        "  print('Non- leap year')\n"
      ],
      "metadata": {
        "colab": {
          "base_uri": "https://localhost:8080/"
        },
        "id": "8kNiuZ5NYiJR",
        "outputId": "eb8fb778-5eb0-4780-fb9c-60a724b5b36c"
      },
      "execution_count": 3,
      "outputs": [
        {
          "output_type": "stream",
          "name": "stdout",
          "text": [
            "Enter year: 700\n",
            "Non-Leap Year\n"
          ]
        }
      ]
    },
    {
      "cell_type": "code",
      "source": [
        "#Q3\n",
        "from random import randint\n",
        "\n",
        "question = 1\n",
        "\n",
        "while question<11:\n",
        "  a = randint(0,20)\n",
        "  b = randint(0,20)\n",
        "\n",
        "  print('The question is ',a, '*',b)\n",
        "  x= int(input('Enter your answer : '))\n",
        "\n",
        "  if x == a*b:\n",
        "    print ('Right!')\n",
        "  else:\n",
        "    print('Wrong! The answer is', a*b)\n",
        "  question= question+1\n",
        "\n",
        "else:\n",
        "  print ('The game is over')\n",
        "\n"
      ],
      "metadata": {
        "colab": {
          "base_uri": "https://localhost:8080/"
        },
        "id": "S8l0xb0Ebse5",
        "outputId": "a6b6fc05-56fa-48e4-898c-d5d93e412c55"
      },
      "execution_count": 43,
      "outputs": [
        {
          "output_type": "stream",
          "name": "stdout",
          "text": [
            "The question is  4 * 14\n",
            "Enter your answer : 56\n",
            "Right!\n",
            "The question is  18 * 1\n",
            "Enter your answer : 18\n",
            "Right!\n",
            "The question is  2 * 5\n",
            "Enter your answer : 1\n",
            "Wrong! The answer is 10\n",
            "The question is  20 * 5\n",
            "Enter your answer : 190\n",
            "Wrong! The answer is 100\n",
            "The question is  13 * 15\n",
            "Enter your answer : 135\n",
            "Wrong! The answer is 195\n",
            "The question is  5 * 1\n",
            "Enter your answer : 5\n",
            "Right!\n",
            "The question is  2 * 7\n",
            "Enter your answer : 14\n",
            "Right!\n",
            "The question is  20 * 8\n",
            "Enter your answer : 160\n",
            "Right!\n",
            "The question is  2 * 13\n",
            "Enter your answer : 26\n",
            "Right!\n",
            "The question is  6 * 8\n",
            "Enter your answer : 49\n",
            "Wrong! The answer is 48\n",
            "The game is over\n"
          ]
        }
      ]
    },
    {
      "cell_type": "code",
      "source": [
        "#Q4\n",
        "for candies in range (200):\n",
        "  if candies%5==2:\n",
        "    if candies%6==3:\n",
        "      if candies%7==2:\n",
        "        print(candies, 'candies are in the bowl !')"
      ],
      "metadata": {
        "colab": {
          "base_uri": "https://localhost:8080/"
        },
        "id": "CxioNnCxb-43",
        "outputId": "4d6ec49f-c7b3-4957-b69f-34d8840b3a56"
      },
      "execution_count": 1,
      "outputs": [
        {
          "output_type": "stream",
          "name": "stdout",
          "text": [
            "177 candies are in the bowl !\n"
          ]
        }
      ]
    }
  ]
}