{
  "nbformat": 4,
  "nbformat_minor": 0,
  "metadata": {
    "colab": {
      "name": "Assignment 2.ipynb",
      "provenance": []
    },
    "kernelspec": {
      "name": "python3",
      "display_name": "Python 3"
    },
    "language_info": {
      "name": "python"
    }
  },
  "cells": [
    {
      "cell_type": "code",
      "execution_count": 1,
      "metadata": {
        "colab": {
          "base_uri": "https://localhost:8080/"
        },
        "id": "xgTeltusKymM",
        "outputId": "40936d80-a5b0-45f0-9f28-fddf6a5de8b2"
      },
      "outputs": [
        {
          "output_type": "stream",
          "name": "stdout",
          "text": [
            "The length of input string is  35\n",
            "The reversed string is egaugnal evitisnes esac a si nohtyP\n",
            "a case sensitive\n",
            "Python is object oriented language\n",
            "Index of substring 'a' is 10\n",
            "Pythonisacasesensitivelanguage\n"
          ]
        }
      ],
      "source": [
        "#Q1\n",
        "word = \"Python is a case sensitive language\"\n",
        "b = len(word)\n",
        "print (\"The length of input string is \" , b)\n",
        "c = word [::-1]\n",
        "print (\"The reversed string is\", c)\n",
        "d = word[10:26]\n",
        "print (d)\n",
        "e = word.replace(\"a case sensitive\",\"object oriented\")\n",
        "print (e)\n",
        "index = word.find (\"a\")\n",
        "print (\"Index of substring 'a' is\" , index)\n",
        "f = word.replace(\" \",\"\")\n",
        "print (f)\n"
      ]
    },
    {
      "cell_type": "code",
      "source": [
        "#Q2\n",
        "name = \"Ashmita\"\n",
        "SID = \"21107040\"\n",
        "department_name = \"Mechanical\"\n",
        "CGPA = \"9.9\"\n",
        "print (\"Hey,\" , name, \"Here!\")\n",
        "print (\"My SID is\" , SID )\n",
        "print (\"I am from\", department_name, \"department and my CGPA is\", CGPA)\n"
      ],
      "metadata": {
        "colab": {
          "base_uri": "https://localhost:8080/"
        },
        "id": "6SEoU-eHSNW6",
        "outputId": "d886398d-5566-42a7-cd3f-10d03365b46d"
      },
      "execution_count": 21,
      "outputs": [
        {
          "output_type": "stream",
          "name": "stdout",
          "text": [
            "Hey, Ashmita Here!\n",
            "My SID is 21107040\n",
            "I am from Mechanical department and my CGPA is 9.9\n"
          ]
        }
      ]
    },
    {
      "cell_type": "code",
      "source": [
        "#Q3\n",
        "a = 56\n",
        "b = 10\n",
        "c = a & b \n",
        "print (\"a and b is \", c)\n",
        "d = a|b\n",
        "print (\"a or b is \", d)\n",
        "e = a ^ b\n",
        "print (\"a xor b is \",e)\n",
        "f = a<<2\n",
        "print (\"a shl by 2 bits is \", f)\n",
        "g = b<<2\n",
        "print (\"b shl by 2 bits is \",g)\n",
        "h = a>>2\n",
        "print (\"a shr by 2 bits is \",h)\n",
        "i = b>>4\n",
        "print (\"b shr by 4 bits is \",i)"
      ],
      "metadata": {
        "colab": {
          "base_uri": "https://localhost:8080/"
        },
        "id": "V2qDpwEpTV9D",
        "outputId": "d5049046-4ebd-4c3c-c66b-452bee0aed40"
      },
      "execution_count": 27,
      "outputs": [
        {
          "output_type": "stream",
          "name": "stdout",
          "text": [
            "a and b is  8\n",
            "a or b is  58\n",
            "a xor b is  50\n",
            "a shl by 2 bits is  224\n",
            "b shl by 2 bits is  40\n",
            "a shr by 2 bits is  14\n",
            "b shr by 4 bits is  0\n"
          ]
        }
      ]
    },
    {
      "cell_type": "code",
      "source": [
        "#Q4\n",
        "word = input (\"Enter a string\")\n",
        "print ('name' in word)"
      ],
      "metadata": {
        "colab": {
          "base_uri": "https://localhost:8080/"
        },
        "id": "zo-FVaWzVqgu",
        "outputId": "bb8b426e-840a-4d1c-a1ff-9d7af9cb3880"
      },
      "execution_count": 2,
      "outputs": [
        {
          "output_type": "stream",
          "name": "stdout",
          "text": [
            "Enter a stringhello good morning\n",
            "False\n"
          ]
        }
      ]
    },
    {
      "cell_type": "code",
      "source": [
        "#Q5\n",
        "a = float (input(\"Enter the length of first side\"))\n",
        "b = float (input(\"Enter the length of second side\"))\n",
        "c = float (input(\"Enter the length of third side\"))\n",
        "\n",
        "x = int (a)\n",
        "y = int (b)\n",
        "z = int (c)\n",
        "\n",
        "d = x+y>z\n",
        "e = y+z>x\n",
        "f = z+x>y\n",
        "\n",
        "answer = str ( d & e & f)\n",
        "answer = answer.replace (\"True\",\"yes\")\n",
        "answer = answer.replace (\"False\",\"no\")\n",
        "print (answer)\n"
      ],
      "metadata": {
        "colab": {
          "base_uri": "https://localhost:8080/"
        },
        "id": "OAbkoJU7XwoO",
        "outputId": "e96f4d6f-8ccd-4f6f-defd-5e0bfadf9a24"
      },
      "execution_count": 10,
      "outputs": [
        {
          "output_type": "stream",
          "name": "stdout",
          "text": [
            "Enter the length of first side6.7\n",
            "Enter the length of second side8.9\n",
            "Enter the length of third side8.5\n",
            "yes\n"
          ]
        }
      ]
    },
    {
      "cell_type": "code",
      "source": [
        "#Q6\n",
        "a= int(input(\"Enter the number a :\"))\n",
        "b= int(input(\"Enter the number b :\"))\n",
        "c= bin (a^b)\n",
        "\n",
        "count=0\n",
        "for i in c [2::]:\n",
        "  if i==\"1\":\n",
        "    count=count+1\n",
        "\n",
        "print(count)"
      ],
      "metadata": {
        "colab": {
          "base_uri": "https://localhost:8080/"
        },
        "id": "g2_cDx2oXyim",
        "outputId": "93805039-a447-4029-90d3-05a810526cf4"
      },
      "execution_count": 9,
      "outputs": [
        {
          "output_type": "stream",
          "name": "stdout",
          "text": [
            "Enter the number a :12\n",
            "Enter the number b :15\n",
            "2\n"
          ]
        }
      ]
    }
  ]
}