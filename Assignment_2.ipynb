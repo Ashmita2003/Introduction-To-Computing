{
  "cells": [
    {
      "cell_type": "code",
      "execution_count": 1,
      "metadata": {
        "colab": {
          "base_uri": "https://localhost:8080/"
        },
        "id": "xgTeltusKymM",
        "outputId": "7995fbdf-7ac9-4be8-edd8-1fd3d8b42199"
      },
      "outputs": [
        {
          "output_type": "stream",
          "name": "stdout",
          "text": [
            "The length of input string is  35\n",
            "The reversed string is egaugnal evitisnes esac a si nohtyP\n",
            "a case sensitive\n",
            "Python is object oriented language\n",
            "Index of substring 'a' is 10\n",
            "Pythonisacasesensitivelanguage\n"
          ]
        }
      ],
      "source": [
        "#Q1\n",
        "word = \"Python is a case sensitive language\"\n",
        "b = len(word)\n",
        "print (\"The length of input string is \" , b)\n",
        "c = word [::-1]\n",
        "print (\"The reversed string is\", c)\n",
        "d = word[10:26]\n",
        "print (d)\n",
        "e = word.replace(\"a case sensitive\",\"object oriented\")\n",
        "print (e)\n",
        "index = word.find (\"a\")\n",
        "print (\"Index of substring 'a' is\" , index)\n",
        "f = word.replace(\" \",\"\")\n",
        "print (f)"
      ]
    },
    {
      "cell_type": "code",
      "source": [
        "#Q2\n",
        "name = \"Ashmita\"\n",
        "SID = \"21107040\"\n",
        "department_name = \"Mechanical\"\n",
        "CGPA = \"9.9\"\n",
        "print (\"Hey, {n} Here! \\nMy SID is {sid} \\nI am from {dept} department and my CGPA is {cg}\".format(n=name, sid=SID, dept= department_name, cg= CGPA))"
      ],
      "metadata": {
        "colab": {
          "base_uri": "https://localhost:8080/"
        },
        "id": "5KIyYHBN7sd4",
        "outputId": "b0f6731d-6151-497c-a2e6-968575efe629"
      },
      "execution_count": 13,
      "outputs": [
        {
          "output_type": "stream",
          "name": "stdout",
          "text": [
            "Hey, Ashmita Here! \n",
            "My SID is 21107040 \n",
            "I am from Mechanical department and my CGPA is 9.9\n"
          ]
        }
      ]
    },
    {
      "cell_type": "code",
      "source": [
        "#Q3\n",
        "a = 56\n",
        "b = 10\n",
        "c = a & b \n",
        "print (\"a and b is \", c)\n",
        "d = a|b\n",
        "print (\"a or b is \", d)\n",
        "e = a ^ b\n",
        "print (\"a xor b is \",e)\n",
        "f = a<<2\n",
        "print (\"a shl by 2 bits is \", f)\n",
        "g = b<<2\n",
        "print (\"b shl by 2 bits is \",g)\n",
        "h = a>>2\n",
        "print (\"a shr by 2 bits is \",h)\n",
        "i = b>>4\n",
        "print (\"b shr by 4 bits is \",i)\n"
      ],
      "metadata": {
        "colab": {
          "base_uri": "https://localhost:8080/"
        },
        "id": "ynI3UfRo7uNV",
        "outputId": "e621d342-c911-481c-e8a1-fdda8e67ace4"
      },
      "execution_count": 3,
      "outputs": [
        {
          "output_type": "stream",
          "name": "stdout",
          "text": [
            "a and b is  8\n",
            "a or b is  58\n",
            "a xor b is  50\n",
            "a shl by 2 bits is  224\n",
            "b shl by 2 bits is  40\n",
            "a shr by 2 bits is  14\n",
            "b shr by 4 bits is  0\n"
          ]
        }
      ]
    },
    {
      "cell_type": "code",
      "source": [
        "#Q4\n",
        "word = input (\"Enter a string\")\n",
        "a= 'name' in word\n",
        "answer = str (a)\n",
        "answer = answer.replace (\"True\",\"yes\")\n",
        "answer = answer.replace (\"False\",\"no\")\n",
        "print (answer)"
      ],
      "metadata": {
        "colab": {
          "base_uri": "https://localhost:8080/"
        },
        "id": "ni6w8Fj770Ci",
        "outputId": "a891f5f4-123d-4fc9-ab47-2720c405ef27"
      },
      "execution_count": 17,
      "outputs": [
        {
          "output_type": "stream",
          "name": "stdout",
          "text": [
            "Enter a stringnamise\n",
            "no\n"
          ]
        }
      ]
    },
    {
      "cell_type": "code",
      "source": [
        "#Q5\n",
        "a = float (input(\"Enter the length of first side\"))\n",
        "b = float (input(\"Enter the length of second side\"))\n",
        "c = float (input(\"Enter the length of third side\"))\n",
        "\n",
        "x = int (a)\n",
        "y = int (b)\n",
        "z = int (c)\n",
        "\n",
        "d = x+y>z\n",
        "e = y+z>x\n",
        "f = z+x>y\n",
        "\n",
        "answer = str ( d & e & f)\n",
        "answer = answer.replace (\"True\",\"yes\")\n",
        "answer = answer.replace (\"False\",\"no\")\n",
        "print (answer)"
      ],
      "metadata": {
        "colab": {
          "base_uri": "https://localhost:8080/"
        },
        "id": "uWVgtHgH70KF",
        "outputId": "17844d09-8342-4a73-9566-1ec5429967a1"
      },
      "execution_count": 8,
      "outputs": [
        {
          "output_type": "stream",
          "name": "stdout",
          "text": [
            "Enter the length of first side6.8\n",
            "Enter the length of second side8.9\n",
            "Enter the length of third side9.7\n",
            "yes\n"
          ]
        }
      ]
    },
    {
      "cell_type": "code",
      "source": [
        "#Q6\n",
        "a= int(input(\"Enter the number a :\"))\n",
        "b= int(input(\"Enter the number b :\"))\n",
        "c= bin (a^b)\n",
        "\n",
        "count=0\n",
        "for i in c [2::]:\n",
        "  if i==\"1\":\n",
        "    count=count+1\n",
        "\n",
        "print(count)"
      ],
      "metadata": {
        "colab": {
          "base_uri": "https://localhost:8080/"
        },
        "id": "N908x2QS753r",
        "outputId": "d32d58df-70ad-4755-f7b8-257791f74d0f"
      },
      "execution_count": 9,
      "outputs": [
        {
          "output_type": "stream",
          "name": "stdout",
          "text": [
            "Enter the number a :12\n",
            "Enter the number b :15\n",
            "2\n"
          ]
        }
      ]
    }
  ],
  "metadata": {
    "colab": {
      "name": "Assignment 2.ipynb",
      "provenance": [],
      "collapsed_sections": []
    },
    "kernelspec": {
      "display_name": "Python 3",
      "name": "python3"
    },
    "language_info": {
      "name": "python"
    }
  },
  "nbformat": 4,
  "nbformat_minor": 0
}