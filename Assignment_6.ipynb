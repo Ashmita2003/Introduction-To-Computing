{
  "nbformat": 4,
  "nbformat_minor": 0,
  "metadata": {
    "colab": {
      "name": "Assignment_6.ipynb",
      "provenance": []
    },
    "kernelspec": {
      "name": "python3",
      "display_name": "Python 3"
    },
    "language_info": {
      "name": "python"
    }
  },
  "cells": [
    {
      "cell_type": "code",
      "source": [
        "#Q1\n",
        "# Function to check perfect number\n",
        "def perfect_number(n):\n",
        "\n",
        "    sum_of_divisors = 0\n",
        "    \n",
        "    for i in range(1,n):\n",
        "        if n%i==0:\n",
        "            sum_of_divisors += i\n",
        "\n",
        "    return sum_of_divisors == n\n",
        "\n",
        "number = int(input('Enter number: '))\n",
        "if perfect_number(number):\n",
        "    print(number,'is a PERFECT number')\n",
        "else:\n",
        "    print(number,'is NOT A PERFECT number')\n"
      ],
      "metadata": {
        "colab": {
          "base_uri": "https://localhost:8080/"
        },
        "id": "5r-IMOqf1O8s",
        "outputId": "fcfc5853-0dcb-4316-819b-3de90d18cfb3"
      },
      "execution_count": 14,
      "outputs": [
        {
          "output_type": "stream",
          "name": "stdout",
          "text": [
            "Enter number: 34\n",
            "34 is NOT A PERFECT number\n"
          ]
        }
      ]
    },
    {
      "cell_type": "code",
      "source": [
        "#Q2\n",
        "#Function to check Palindrome\n",
        "def isPalindrome (s) :\n",
        "  return s == s[::-1]\n",
        "\n",
        "string = input ('Enter a string :')\n",
        "s = string.lower()\n",
        "if isPalindrome(s):\n",
        "  print (s,'is a PALINDROME')\n",
        "else:\n",
        "  print (s,'is NOT A PALINDROME')"
      ],
      "metadata": {
        "colab": {
          "base_uri": "https://localhost:8080/"
        },
        "id": "FPZRobFv7qD5",
        "outputId": "52e099a7-67e0-464a-891d-6f6354d0ccf2"
      },
      "execution_count": 19,
      "outputs": [
        {
          "output_type": "stream",
          "name": "stdout",
          "text": [
            "Enter a string :Radar\n",
            "radar is a PALINDROME\n"
          ]
        }
      ]
    },
    {
      "cell_type": "code",
      "source": [
        "#Q3\n",
        "#Function to print Pascal's Triangle\n",
        "from math import factorial\n",
        "\n",
        "def pascal_triangle(n):\n",
        "  for i in range(n):\n",
        "    for j in range(n-i+1):\n",
        "      print(end=\" \") #for left spacing\n",
        " \n",
        "    for j in range(i+1):\n",
        "      print(factorial(i)//(factorial(j)*factorial(i-j)), end=\" \")\n",
        "    print()  #for new line\n",
        "\n",
        "pascal_triangle(5)"
      ],
      "metadata": {
        "colab": {
          "base_uri": "https://localhost:8080/"
        },
        "id": "JQiqgsyY2SH6",
        "outputId": "76140476-da77-4099-868c-615deeed6f47"
      },
      "execution_count": 24,
      "outputs": [
        {
          "output_type": "stream",
          "name": "stdout",
          "text": [
            "      1 \n",
            "     1 1 \n",
            "    1 2 1 \n",
            "   1 3 3 1 \n",
            "  1 4 6 4 1 \n"
          ]
        }
      ]
    },
    {
      "cell_type": "code",
      "source": [
        "#Q4\n",
        "#Function to check Pangram\n",
        "import string\n",
        "  \n",
        "def ispangram(str):\n",
        "    alphabet = \"abcdefghijklmnopqrstuvwxyz\"\n",
        "    for char in alphabet:\n",
        "        if char not in str.lower():\n",
        "            return False\n",
        "  \n",
        "    return True\n",
        "      \n",
        "string = input('Enter a string: ')\n",
        "if(ispangram(string) == True):\n",
        "    print(\"The input string is a PANGRAM.\")\n",
        "else:\n",
        "    print(\"The input string is NOT A PANGRAM.\")"
      ],
      "metadata": {
        "colab": {
          "base_uri": "https://localhost:8080/"
        },
        "id": "gN_5F6MU4qkc",
        "outputId": "1ca3d6a7-e121-423f-9eab-e9bda5d3a22d"
      },
      "execution_count": 25,
      "outputs": [
        {
          "output_type": "stream",
          "name": "stdout",
          "text": [
            "Enter a string: the quick brown fox jumps over the lazy dog\n",
            "The input string is a PANGRAM.\n"
          ]
        }
      ]
    },
    {
      "cell_type": "code",
      "source": [
        "#Q5\n",
        "def word (x) :\n",
        "    for i in range (len(x) + 1) :\n",
        "        for j in range (len(x) - 1) :\n",
        "            if x[ j ][ 0 ] > x[ j + 1][ 0 ] :\n",
        "                x[ j ], x[ j + 1 ] = x[ j + 1 ], x[ j ]\n",
        "                \n",
        "    str = (\"-\").join(x)\n",
        "    print(\"Sequence After sorting : \", str)\n",
        "\n",
        "string = input (\"Enter hyphen-separated sequence of words : \")\n",
        "s = string.split(\"-\")\n",
        "word(s)"
      ],
      "metadata": {
        "colab": {
          "base_uri": "https://localhost:8080/"
        },
        "id": "8MJCGsQN4tqF",
        "outputId": "f27de1d6-ee1e-47ee-dc6e-a906bed37d5e"
      },
      "execution_count": 29,
      "outputs": [
        {
          "output_type": "stream",
          "name": "stdout",
          "text": [
            "Enter hyphen-separated sequence of words : green-red-yellow-black-white\n",
            "Sequence After sorting :  black-green-red-white-yellow\n"
          ]
        }
      ]
    },
    {
      "cell_type": "code",
      "source": [
        "#Q6\n",
        "def student_data(student_name, student_branch, student_id):\n",
        "  print ('Student Name :', student_name )\n",
        "  print ('Student Branch :', student_branch )\n",
        "  print ('Student ID :', student_id )\n",
        "\n",
        "student_name = input (\"Enter the student's name : \")\n",
        "student_branch = input (\"Enter the student's branch : \")\n",
        "student_ID = input (\"Enter the student's ID : \")\n",
        "\n",
        "student_data (student_name, student_branch, student_ID)"
      ],
      "metadata": {
        "colab": {
          "base_uri": "https://localhost:8080/"
        },
        "id": "MrDweb7l4ubk",
        "outputId": "e002dc00-6b7d-4f67-c43f-ef08e5f21d31"
      },
      "execution_count": 30,
      "outputs": [
        {
          "output_type": "stream",
          "name": "stdout",
          "text": [
            "Enter the student's name : Ashmita Monga\n",
            "Enter the student's branch : Mechanical\n",
            "Enter the student's ID : 21107040\n",
            "Student Name : Ashmita Monga\n",
            "Student Branch : Mechanical\n",
            "Student ID : 21107040\n"
          ]
        }
      ]
    },
    {
      "cell_type": "code",
      "source": [
        "#Q7\n",
        "class Student:\n",
        "    pass \n",
        "class Marks:\n",
        "    pass \n",
        "student1 = Student()\n",
        "marks1 = Marks()\n",
        "print(isinstance(student1, Student))\n",
        "print(isinstance(marks1, Student))\n",
        "print(isinstance(marks1, Marks)) \n",
        "print(isinstance(student1, Marks))\n",
        "\n",
        "print(\"Check whether the said classes are subclasses of the built-in object class or not.\")\n",
        "print(issubclass(Student, object))\n",
        "print(issubclass(Marks, object)) "
      ],
      "metadata": {
        "colab": {
          "base_uri": "https://localhost:8080/"
        },
        "id": "qmHtbOpQ4unQ",
        "outputId": "2e6d2eee-2878-41ef-b4b5-946039307616"
      },
      "execution_count": 32,
      "outputs": [
        {
          "output_type": "stream",
          "name": "stdout",
          "text": [
            "True\n",
            "False\n",
            "True\n",
            "False\n",
            "Check whether the said classes are subclasses of the built-in object class or not.\n",
            "True\n",
            "True\n"
          ]
        }
      ]
    },
    {
      "cell_type": "code",
      "source": [
        "#Q8\n",
        "#Function to find three elements whose sum is equal to zero\n",
        "\n",
        "def findTriplets(arr, n):\n",
        "    new_list = []\n",
        "    found = False\n",
        "    for i in range(0, n-2):\n",
        "      \n",
        "        for j in range(i+1, n-1):\n",
        "          \n",
        "            for k in range(j+1, n):\n",
        "              \n",
        "                if (arr[i] + arr[j] + arr[k] == 0):\n",
        "                  l = [arr[i], arr[j], arr[k]]\n",
        "                  \n",
        "                  found = True\n",
        "                  \n",
        "                  new_list.append(l)\n",
        "                  print ('Output : ', new_list)\n",
        "     \n",
        "    if (found == False):\n",
        "        print(\" No triplet exists \")\n",
        "\n",
        "\n",
        "\n",
        "lst =[]       \n",
        "n = int(input('Enter number of elements :'))\n",
        "\n",
        "for i in range (0,n):\n",
        "  ele = int(input())\n",
        "  lst.append(ele)\n",
        "\n",
        "print ('Input array : ', lst)\n",
        "\n",
        "findTriplets(lst,n)"
      ],
      "metadata": {
        "colab": {
          "base_uri": "https://localhost:8080/"
        },
        "id": "wxBJD7qB4uvF",
        "outputId": "dbb00d6a-b8cf-458b-f994-c5e4d049a85e"
      },
      "execution_count": 68,
      "outputs": [
        {
          "output_type": "stream",
          "name": "stdout",
          "text": [
            "Enter number of elements :9\n",
            "-10\n",
            "2\n",
            "8\n",
            "-7\n",
            "-3\n",
            "10\n",
            "-2\n",
            "-4\n",
            "6\n",
            "Input array :  [-10, 2, 8, -7, -3, 10, -2, -4, 6]\n",
            "Output :  [[-10, 2, 8]]\n",
            "Output :  [[-10, 2, 8], [-7, -3, 10]]\n",
            "Output :  [[-10, 2, 8], [-7, -3, 10], [-2, -4, 6]]\n"
          ]
        }
      ]
    },
    {
      "cell_type": "code",
      "source": [
        "#Q9\n",
        "class validity:\n",
        "  def isValid(sequence):\n",
        "       # Replace the proper pairs until sequence becomes empty or no pairs are present\n",
        "       while True:\n",
        "           if '()' in sequence :\n",
        "               sequence = sequence.replace ( '()' , '' )\n",
        "           elif '{}' in sequence :\n",
        "               sequence = sequence.replace ( '{}' , '' )\n",
        "           elif '[]' in sequence :\n",
        "               sequence = sequence.replace ( '[]' , '' )\n",
        "           else :\n",
        "               return not sequence\n",
        "\n",
        "s = input ('Enter the sequence of parentheses :')\n",
        "\n",
        "print (s, '-','is balanced'\n",
        "\n",
        "if validity.isValid(s) else 'is unbalanced')"
      ],
      "metadata": {
        "colab": {
          "base_uri": "https://localhost:8080/"
        },
        "id": "b639QuJA4u1D",
        "outputId": "16a2fc4f-cc1f-4e7f-eda2-fa836754f4bc"
      },
      "execution_count": 65,
      "outputs": [
        {
          "output_type": "stream",
          "name": "stdout",
          "text": [
            "Enter the sequence of parentheses :[}\n",
            "[} - is unbalanced\n"
          ]
        }
      ]
    }
  ]
}