{
  "nbformat": 4,
  "nbformat_minor": 0,
  "metadata": {
    "colab": {
      "name": "Assignment 1.ipynb",
      "provenance": []
    },
    "kernelspec": {
      "name": "python3",
      "display_name": "Python 3"
    },
    "language_info": {
      "name": "python"
    }
  },
  "cells": [
    {
      "cell_type": "code",
      "execution_count": 1,
      "metadata": {
        "colab": {
          "base_uri": "https://localhost:8080/"
        },
        "id": "Vvcp-uwK0req",
        "outputId": "46d8dfeb-0620-4291-cc22-4511a7d97d29"
      },
      "outputs": [
        {
          "output_type": "stream",
          "name": "stdout",
          "text": [
            "First number is 26\n",
            "Second number is 67\n",
            "Third number is 89\n",
            "The average of given three numbers is 60.67\n"
          ]
        }
      ],
      "source": [
        "a= int(input(\"First number is \"))\n",
        "b= int(input(\"Second number is \"))\n",
        "c= int(input(\"Third number is \"))\n",
        "d= round((a + b + c)/3,2)\n",
        "print (\"The average of given three numbers is\", d)"
      ]
    },
    {
      "cell_type": "code",
      "source": [
        "gross_income= float(input(\"Gross Income is $\"))\n",
        "number_of_dependents= int(input(\"Number of dependents is\"))\n",
        "print (\"Standard Deduction is $10,000\")\n",
        "print (\"Dependent Deduction is $3,000\")\n",
        "print (\"Tax Rate is 20%\")\n",
        "print (\"Taxable Income = Gross Income - Standard Deduction - (Dependent deduction * Number of Dependents\")\n",
        "taxable_income= gross_income-10000-(3000*number_of_dependents)\n",
        "print (\"Taxable Income is $\", taxable_income )\n",
        "print (\"Tax = Taxable Income * Tax Rate\")\n",
        "tax= taxable_income* 0.20\n",
        "print (\"Tax is $\", tax)\n",
        "\n"
      ],
      "metadata": {
        "colab": {
          "base_uri": "https://localhost:8080/"
        },
        "id": "1gu3KY7V3ubV",
        "outputId": "b32af5cb-ea42-4fea-913c-5d1f904fb84e"
      },
      "execution_count": 7,
      "outputs": [
        {
          "output_type": "stream",
          "name": "stdout",
          "text": [
            "Gross Income is $1500000\n",
            "Number of dependents is2\n",
            "Standard Deduction is $10,000\n",
            "Dependent Deduction is $3,000\n",
            "Tax Rate is 20%\n",
            "Taxable Income = Gross Income - Standard Deduction - (Dependent deduction * Number of Dependents\n",
            "Taxable Income is $ 1484000.0\n",
            "Tax = Taxable Income * Tax Rate\n",
            "Tax is $ 296800.0\n"
          ]
        }
      ]
    },
    {
      "cell_type": "code",
      "source": [
        "seconds = int(input(\"Number of seconds:\"))\n",
        "n1 = seconds//60\n",
        "n2 = seconds%60\n",
        "print (n1 , \"minutes and \", n2, \"seconds\")"
      ],
      "metadata": {
        "colab": {
          "base_uri": "https://localhost:8080/"
        },
        "id": "wFctyurmI7EU",
        "outputId": "179f24c4-e730-40f3-98cb-b9ab4b958eac"
      },
      "execution_count": 10,
      "outputs": [
        {
          "output_type": "stream",
          "name": "stdout",
          "text": [
            "Number of seconds:500\n",
            "8 minutes and  20 seconds\n"
          ]
        }
      ]
    },
    {
      "cell_type": "code",
      "source": [
        "x = 25\n",
        "y = '25'\n",
        "z = 25.0\n",
        "y_int = int (y)\n",
        "z_int = int (z)\n",
        "sum = str (x+ y_int + z_int)\n",
        "print (sum)\n",
        "type (sum)"
      ],
      "metadata": {
        "colab": {
          "base_uri": "https://localhost:8080/"
        },
        "id": "Odu10CfeQQwI",
        "outputId": "f252d875-165e-4a35-a890-123777dfc5d2"
      },
      "execution_count": 12,
      "outputs": [
        {
          "output_type": "stream",
          "name": "stdout",
          "text": [
            "75\n"
          ]
        },
        {
          "output_type": "execute_result",
          "data": {
            "text/plain": [
              "str"
            ]
          },
          "metadata": {},
          "execution_count": 12
        }
      ]
    },
    {
      "cell_type": "code",
      "source": [
        "from math import sin, cos, pi\n",
        "deg=0\n",
        "m=0\n",
        "n=0\n",
        "for deg in range (0,346,15):\n",
        " rad = deg *(pi/180)\n",
        " m= round (sin (rad),4)\n",
        " n= round (cos (rad),4)\n",
        " print (deg, \"---\", m , n)"
      ],
      "metadata": {
        "colab": {
          "base_uri": "https://localhost:8080/"
        },
        "id": "_dhDdnSRRT1o",
        "outputId": "89a96ec6-1b0f-4153-aae7-be7890ba37d3"
      },
      "execution_count": 15,
      "outputs": [
        {
          "output_type": "stream",
          "name": "stdout",
          "text": [
            "0 --- 0.0 1.0\n",
            "15 --- 0.2588 0.9659\n",
            "30 --- 0.5 0.866\n",
            "45 --- 0.7071 0.7071\n",
            "60 --- 0.866 0.5\n",
            "75 --- 0.9659 0.2588\n",
            "90 --- 1.0 0.0\n",
            "105 --- 0.9659 -0.2588\n",
            "120 --- 0.866 -0.5\n",
            "135 --- 0.7071 -0.7071\n",
            "150 --- 0.5 -0.866\n",
            "165 --- 0.2588 -0.9659\n",
            "180 --- 0.0 -1.0\n",
            "195 --- -0.2588 -0.9659\n",
            "210 --- -0.5 -0.866\n",
            "225 --- -0.7071 -0.7071\n",
            "240 --- -0.866 -0.5\n",
            "255 --- -0.9659 -0.2588\n",
            "270 --- -1.0 -0.0\n",
            "285 --- -0.9659 0.2588\n",
            "300 --- -0.866 0.5\n",
            "315 --- -0.7071 0.7071\n",
            "330 --- -0.5 0.866\n",
            "345 --- -0.2588 0.9659\n"
          ]
        }
      ]
    },
    {
      "cell_type": "code",
      "source": [
        ""
      ],
      "metadata": {
        "id": "Sv94Ow5TkWkN"
      },
      "execution_count": 88,
      "outputs": []
    }
  ]
}