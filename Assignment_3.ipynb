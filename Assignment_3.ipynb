{
  "nbformat": 4,
  "nbformat_minor": 0,
  "metadata": {
    "colab": {
      "name": "Assignment_3.ipynb",
      "provenance": [],
      "collapsed_sections": []
    },
    "kernelspec": {
      "name": "python3",
      "display_name": "Python 3"
    },
    "language_info": {
      "name": "python"
    }
  },
  "cells": [
    {
      "cell_type": "code",
      "execution_count": 1,
      "metadata": {
        "colab": {
          "base_uri": "https://localhost:8080/"
        },
        "id": "GZPR0GHAPR4c",
        "outputId": "404c0e4c-bf54-4d10-ee04-d0ffe19c42a0"
      },
      "outputs": [
        {
          "output_type": "stream",
          "name": "stdout",
          "text": [
            "Enter a number : 78\n",
            "0b1001110\n"
          ]
        }
      ],
      "source": [
        "#Q1\n",
        "number = int(input(\"Enter a number : \"))\n",
        "print (bin(number))"
      ]
    },
    {
      "cell_type": "code",
      "source": [
        "#Q2\n",
        "n = input (\"Enter the expression : \")\n",
        "print (eval(n))"
      ],
      "metadata": {
        "colab": {
          "base_uri": "https://localhost:8080/"
        },
        "id": "KDv2iiJkcCrJ",
        "outputId": "95cc8dfd-a211-4361-b851-8a6fced8a79f"
      },
      "execution_count": 2,
      "outputs": [
        {
          "output_type": "stream",
          "name": "stdout",
          "text": [
            "Enter the expression : 2+45\n",
            "47\n"
          ]
        }
      ]
    },
    {
      "cell_type": "code",
      "source": [
        "#Q3\n",
        "from math import pi, cos, sin\n",
        "n = int (input (\"Enter the number n: \"))\n",
        "r = int (input (\"Enter the number r: \"))\n",
        "a = int (input (\"Enter the angle a: \"))\n",
        "b = int (input (\"Enter the angle b: \"))\n",
        "\n",
        "x1 = int (input (\"Enter the number x1: \"))\n",
        "x2 = int (input (\"Enter the number x2: \"))\n",
        "\n",
        "y1 = int (input (\"Enter the number y1: \"))\n",
        "y2 = int (input (\"Enter the number y2: \"))\n",
        "\n",
        "print(\"(3+4)(5) = \", (3+4)*5)\n",
        "print (\"n(n-1)/2 = \", (n *(n-1))/2)\n",
        "print (\"4(pi)r^2 = \", 4*pi*(r**2))\n",
        "print (\"sqrt(r(cosa)^2 + r(sina)^2) =\", (r*((cos(a))**2) + r*((sin(a))**2))**0.5)\n",
        "if x1==x2 :\n",
        "  print (\"Not Defined\")\n",
        "else :\n",
        "  print (\"(y2-y1)/(x2-x1) = \", (y2-y1)/(x2-x1))\n",
        "\n",
        "\n"
      ],
      "metadata": {
        "colab": {
          "base_uri": "https://localhost:8080/"
        },
        "id": "oUtJo3yMR14D",
        "outputId": "18776d20-837a-4e72-dbf6-9f67d17f4d40"
      },
      "execution_count": 3,
      "outputs": [
        {
          "output_type": "stream",
          "name": "stdout",
          "text": [
            "Enter the number n: 5\n",
            "Enter the number r: 7\n",
            "Enter the angle a: 30\n",
            "Enter the angle b: 30\n",
            "Enter the number x1: 20\n",
            "Enter the number x2: 10\n",
            "Enter the number y1: 30\n",
            "Enter the number y2: 40\n",
            "(3+4)(5) =  35\n",
            "n(n-1)/2 =  10.0\n",
            "4(pi)r^2 =  615.7521601035994\n",
            "sqrt(r(cosa)^2 + r(sina)^2) = 2.6457513110645907\n",
            "(y2-y1)/(x2-x1) =  -1.0\n"
          ]
        }
      ]
    },
    {
      "cell_type": "code",
      "source": [
        "#Q4\n",
        "for a in range (5):\n",
        "  print (a)\n",
        "\n",
        "for b in range (3,10):\n",
        "  print (b)\n",
        "\n",
        "for c in range (4,13,3):\n",
        "  print (c)\n",
        "\n",
        "for d in range (15,5,-2):\n",
        "  print (d)\n",
        "\n",
        "for e in range (5,3,-1):\n",
        "  print (e)"
      ],
      "metadata": {
        "colab": {
          "base_uri": "https://localhost:8080/"
        },
        "id": "ICvgKw5uR3IQ",
        "outputId": "1e5e1ea8-c123-4a57-dd3a-cd0bebb468b8"
      },
      "execution_count": 19,
      "outputs": [
        {
          "output_type": "stream",
          "name": "stdout",
          "text": [
            "0\n",
            "1\n",
            "2\n",
            "3\n",
            "4\n",
            "3\n",
            "4\n",
            "5\n",
            "6\n",
            "7\n",
            "8\n",
            "9\n",
            "4\n",
            "7\n",
            "10\n",
            "15\n",
            "13\n",
            "11\n",
            "9\n",
            "7\n",
            "5\n",
            "4\n"
          ]
        }
      ]
    },
    {
      "cell_type": "code",
      "source": [
        "#Q5 \n",
        "number_of_hydrogen_atoms = int(input(\"Enter the number of Hydrogen atoms : \"))\n",
        "number_of_carbon_atoms = int(input(\"Enter the number of Carbon atoms : \"))\n",
        "number_of_oxygen_atoms = int(input(\"Enter the number of Oxygen atoms : \"))\n",
        "molecular_weight = (number_of_hydrogen_atoms * 1.00794) + (number_of_carbon_atoms * 12.0107) + (number_of_oxygen_atoms * 15.9994)\n",
        "print (\"The molecular weight of given carbohydrate is \", molecular_weight, \"grams/mole\")\n"
      ],
      "metadata": {
        "colab": {
          "base_uri": "https://localhost:8080/"
        },
        "id": "jECc6DsjR4JW",
        "outputId": "34737ee8-cbd5-4e02-8433-8a9e661b6d86"
      },
      "execution_count": 4,
      "outputs": [
        {
          "output_type": "stream",
          "name": "stdout",
          "text": [
            "Enter the number of Hydrogen atoms : 5\n",
            "Enter the number of Carbon atoms : 4\n",
            "Enter the number of Oxygen atoms : 2\n",
            "The molecular weight of given carbohydrate is  85.0813 grams/mole\n"
          ]
        }
      ]
    }
  ]
}